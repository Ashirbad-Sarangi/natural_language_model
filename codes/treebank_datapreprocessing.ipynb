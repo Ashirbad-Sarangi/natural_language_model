{
 "cells": [
  {
   "cell_type": "markdown",
   "id": "77396ac4-82bf-410c-a16e-f62db4f4961a",
   "metadata": {},
   "source": [
    "# Notebook to preprocess the Treebank corpus from nltk to use it later"
   ]
  },
  {
   "cell_type": "code",
   "execution_count": 1,
   "id": "f116c84d-bff9-488e-b82c-c176b168ccae",
   "metadata": {},
   "outputs": [],
   "source": [
    "import pandas as analytics\n",
    "from nltk.corpus import treebank\n",
    "from locations import treebank_training_path, treebank_testing_path"
   ]
  },
  {
   "cell_type": "code",
   "execution_count": 2,
   "id": "80abba45-7142-4c5c-8daf-4fc888d4a99a",
   "metadata": {},
   "outputs": [
    {
     "name": "stdout",
     "output_type": "stream",
     "text": [
      "Total Sentences : 3914\n"
     ]
    }
   ],
   "source": [
    "sentences = treebank.sents()\n",
    "print(\"Total Sentences : \"+str(len(sentences)))"
   ]
  },
  {
   "cell_type": "code",
   "execution_count": 3,
   "id": "77d63805-00d7-4788-b59b-68b0c8b6ec84",
   "metadata": {},
   "outputs": [
    {
     "name": "stdout",
     "output_type": "stream",
     "text": [
      "Pierre Vinken , 61 years old , will join the board as a nonexecutive director Nov. 29 .\n",
      "Mr. Vinken is chairman of Elsevier N.V. , the Dutch publishing group .\n",
      "Rudolph Agnew , 55 years old and former chairman of Consolidated Gold Fields PLC , was named *-1 a nonexecutive director of this British industrial conglomerate .\n",
      "A form of asbestos once used * * to make Kent cigarette filters has caused a high percentage of cancer deaths among a group of workers exposed * to it more than 30 years ago , researchers reported 0 *T*-1 .\n",
      "The asbestos fiber , crocidolite , is unusually resilient once it enters the lungs , with even brief exposures to it causing symptoms that *T*-1 show up decades later , researchers said 0 *T*-2 .\n"
     ]
    }
   ],
   "source": [
    "# Creating the Corpus \n",
    "corpus = [' '.join(sentence) for sentence in sentences]\n",
    "for i in range(5):\n",
    "    print(corpus[i])\n",
    "df_corpus = analytics.DataFrame({\"data\":corpus})"
   ]
  },
  {
   "cell_type": "code",
   "execution_count": 4,
   "id": "1080d284-f67a-402e-b29a-065822b08d0e",
   "metadata": {},
   "outputs": [
    {
     "name": "stdout",
     "output_type": "stream",
     "text": [
      "Training Sample : 3131\n",
      "Training Sample : 783\n"
     ]
    }
   ],
   "source": [
    "# Splitting into training and testing sets\n",
    "training_perc = 0.8 \n",
    "training = int(training_perc * len(df_corpus))\n",
    "df_corpus = df_corpus.sample(frac = 1)\n",
    "df_train = df_corpus[:training]\n",
    "df_test = df_corpus[training:]\n",
    "print(\"Training Sample :\",len(df_train))\n",
    "print(\"Training Sample :\",len(df_test))"
   ]
  },
  {
   "cell_type": "code",
   "execution_count": 5,
   "id": "26a64837-074f-4534-95c8-3bebc65574e6",
   "metadata": {},
   "outputs": [],
   "source": [
    "df_train.to_csv(treebank_training_path,index = False)\n",
    "df_test.to_csv(treebank_testing_path,index = False)"
   ]
  }
 ],
 "metadata": {
  "kernelspec": {
   "display_name": "Python 3 (ipykernel)",
   "language": "python",
   "name": "python3"
  },
  "language_info": {
   "codemirror_mode": {
    "name": "ipython",
    "version": 3
   },
   "file_extension": ".py",
   "mimetype": "text/x-python",
   "name": "python",
   "nbconvert_exporter": "python",
   "pygments_lexer": "ipython3",
   "version": "3.11.6"
  }
 },
 "nbformat": 4,
 "nbformat_minor": 5
}
