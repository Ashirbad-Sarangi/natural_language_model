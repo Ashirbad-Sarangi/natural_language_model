{
 "cells": [
  {
   "cell_type": "code",
   "execution_count": 1,
   "id": "82a0bf79-27c1-4191-a4dd-670de1b95924",
   "metadata": {
    "scrolled": true
   },
   "outputs": [
    {
     "name": "stderr",
     "output_type": "stream",
     "text": [
      "2024-04-22 13:20:45.466883: I tensorflow/core/platform/cpu_feature_guard.cc:210] This TensorFlow binary is optimized to use available CPU instructions in performance-critical operations.\n",
      "To enable the following instructions: AVX2 FMA, in other operations, rebuild TensorFlow with the appropriate compiler flags.\n",
      "2024-04-22 13:20:46.272659: W tensorflow/compiler/tf2tensorrt/utils/py_utils.cc:38] TF-TRT Warning: Could not find TensorRT\n"
     ]
    }
   ],
   "source": [
    "import pandas as analytics\n",
    "import numpy as maths\n",
    "import tensorflow as tf\n",
    "from locations import treebank_training_path, conll_8k_training_path\n",
    "from locations import conll_8k_model_v1_path , conll_8k_model_v2_path , treebank_model_path, penn_treebank_model_path\n",
    "# from nltk.corpus import conll2000\n",
    "from model_builder import model_tester\n",
    "import warnings\n",
    "warnings.filterwarnings(\"ignore\")"
   ]
  },
  {
   "cell_type": "code",
   "execution_count": 2,
   "id": "ff260254-14d6-485a-bf6c-9aec2cb0b599",
   "metadata": {},
   "outputs": [],
   "source": [
    "# training_path = treebank_training_path\n",
    "training_path = treebank_training_path\n",
    "model_path = penn_treebank_model_path"
   ]
  },
  {
   "cell_type": "code",
   "execution_count": 3,
   "id": "2450c6c0-7863-4876-a23e-764abf903a51",
   "metadata": {},
   "outputs": [
    {
     "name": "stderr",
     "output_type": "stream",
     "text": [
      "2024-04-22 13:20:47.522497: W tensorflow/core/common_runtime/gpu/gpu_device.cc:2251] Cannot dlopen some GPU libraries. Please make sure the missing libraries mentioned above are installed properly if you would like to use GPU. Follow the guide at https://www.tensorflow.org/install/gpu for how to download and setup the required libraries for your platform.\n",
      "Skipping registering GPU devices...\n"
     ]
    },
    {
     "name": "stdout",
     "output_type": "stream",
     "text": [
      "Chatbot: Hello! How can I assist you today?\n"
     ]
    },
    {
     "name": "stdin",
     "output_type": "stream",
     "text": [
      "You:  exit\n"
     ]
    },
    {
     "name": "stdout",
     "output_type": "stream",
     "text": [
      "Chatbot: Goodbye!\n"
     ]
    }
   ],
   "source": [
    "tester = model_tester(training_path = training_path ,model_path = model_path )\n",
    "tester.interact()"
   ]
  }
 ],
 "metadata": {
  "kernelspec": {
   "display_name": "Python 3 (ipykernel)",
   "language": "python",
   "name": "python3"
  },
  "language_info": {
   "codemirror_mode": {
    "name": "ipython",
    "version": 3
   },
   "file_extension": ".py",
   "mimetype": "text/x-python",
   "name": "python",
   "nbconvert_exporter": "python",
   "pygments_lexer": "ipython3",
   "version": "3.11.6"
  }
 },
 "nbformat": 4,
 "nbformat_minor": 5
}
