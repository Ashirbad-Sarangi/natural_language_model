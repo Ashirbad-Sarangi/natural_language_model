{
 "cells": [
  {
   "cell_type": "code",
   "execution_count": 174,
   "id": "82a0bf79-27c1-4191-a4dd-670de1b95924",
   "metadata": {},
   "outputs": [],
   "source": [
    "import pandas as analytics\n",
    "import numpy as maths\n",
    "from locations import train_location, vocabulary_location\n",
    "import tensorflow as tf\n",
    "import warnings\n",
    "warnings.filterwarnings(\"ignore\")"
   ]
  },
  {
   "cell_type": "code",
   "execution_count": 175,
   "id": "1a071bf7-cd27-4a01-adf3-a8d058c60aeb",
   "metadata": {},
   "outputs": [],
   "source": [
    "df_vocabulary = analytics.read_csv(vocabulary_location)"
   ]
  },
  {
   "cell_type": "code",
   "execution_count": 176,
   "id": "092862c2-7f1f-4c08-9d4b-422b1487676e",
   "metadata": {},
   "outputs": [
    {
     "data": {
      "text/html": [
       "<div>\n",
       "<style scoped>\n",
       "    .dataframe tbody tr th:only-of-type {\n",
       "        vertical-align: middle;\n",
       "    }\n",
       "\n",
       "    .dataframe tbody tr th {\n",
       "        vertical-align: top;\n",
       "    }\n",
       "\n",
       "    .dataframe thead th {\n",
       "        text-align: right;\n",
       "    }\n",
       "</style>\n",
       "<table border=\"1\" class=\"dataframe\">\n",
       "  <thead>\n",
       "    <tr style=\"text-align: right;\">\n",
       "      <th></th>\n",
       "      <th>index</th>\n",
       "      <th>token</th>\n",
       "    </tr>\n",
       "  </thead>\n",
       "  <tbody>\n",
       "    <tr>\n",
       "      <th>0</th>\n",
       "      <td>0</td>\n",
       "      <td>retreat</td>\n",
       "    </tr>\n",
       "    <tr>\n",
       "      <th>1</th>\n",
       "      <td>1</td>\n",
       "      <td>repay</td>\n",
       "    </tr>\n",
       "    <tr>\n",
       "      <th>2</th>\n",
       "      <td>2</td>\n",
       "      <td>definitive</td>\n",
       "    </tr>\n",
       "    <tr>\n",
       "      <th>3</th>\n",
       "      <td>3</td>\n",
       "      <td>nikkei</td>\n",
       "    </tr>\n",
       "    <tr>\n",
       "      <th>4</th>\n",
       "      <td>4</td>\n",
       "      <td>caused</td>\n",
       "    </tr>\n",
       "    <tr>\n",
       "      <th>...</th>\n",
       "      <td>...</td>\n",
       "      <td>...</td>\n",
       "    </tr>\n",
       "    <tr>\n",
       "      <th>10004</th>\n",
       "      <td>10004</td>\n",
       "      <td>bookings</td>\n",
       "    </tr>\n",
       "    <tr>\n",
       "      <th>10005</th>\n",
       "      <td>10005</td>\n",
       "      <td>minimum-wage</td>\n",
       "    </tr>\n",
       "    <tr>\n",
       "      <th>10006</th>\n",
       "      <td>10006</td>\n",
       "      <td>slipping</td>\n",
       "    </tr>\n",
       "    <tr>\n",
       "      <th>10007</th>\n",
       "      <td>10007</td>\n",
       "      <td>person</td>\n",
       "    </tr>\n",
       "    <tr>\n",
       "      <th>10008</th>\n",
       "      <td>10008</td>\n",
       "      <td>integrated</td>\n",
       "    </tr>\n",
       "  </tbody>\n",
       "</table>\n",
       "<p>10009 rows × 2 columns</p>\n",
       "</div>"
      ],
      "text/plain": [
       "       index         token\n",
       "0          0       retreat\n",
       "1          1         repay\n",
       "2          2    definitive\n",
       "3          3        nikkei\n",
       "4          4        caused\n",
       "...      ...           ...\n",
       "10004  10004      bookings\n",
       "10005  10005  minimum-wage\n",
       "10006  10006      slipping\n",
       "10007  10007        person\n",
       "10008  10008    integrated\n",
       "\n",
       "[10009 rows x 2 columns]"
      ]
     },
     "execution_count": 176,
     "metadata": {},
     "output_type": "execute_result"
    }
   ],
   "source": [
    "df_vocabulary = df_vocabulary.rename(columns = {df_vocabulary.columns[0]:'index'})\n",
    "tokens = list(df_vocabulary['token'])\n",
    "df_vocabulary"
   ]
  },
  {
   "cell_type": "code",
   "execution_count": 177,
   "id": "e4b7044b-aa14-4c11-ad6f-9ce6001201c9",
   "metadata": {},
   "outputs": [],
   "source": [
    "df_train = analytics.read_csv(train_location,header= None)"
   ]
  },
  {
   "cell_type": "code",
   "execution_count": 178,
   "id": "c685b855-14c1-4247-a594-0796cf6081fe",
   "metadata": {},
   "outputs": [],
   "source": [
    "def convert_sentence_to_vector(sentence):\n",
    "    ids = []\n",
    "    for word in sentence :\n",
    "        if word in tokens:\n",
    "            ids.append(tokens.index(word))\n",
    "    return ids"
   ]
  },
  {
   "cell_type": "code",
   "execution_count": 179,
   "id": "0d2d35b7-bf93-4ee8-b78e-231a486d15f2",
   "metadata": {},
   "outputs": [],
   "source": [
    "def convert_vector_to_sentence(vector):\n",
    "    sentence = \"\"\n",
    "    for word_id in vector :\n",
    "        word = df_vocabulary.iloc[word_id]['token']\n",
    "        sentence += word + \" \"\n",
    "    sentence.strip()\n",
    "    return sentence"
   ]
  },
  {
   "cell_type": "code",
   "execution_count": 207,
   "id": "f203ae69-6f6d-46a8-98d4-055eaa9bdf93",
   "metadata": {},
   "outputs": [
    {
     "name": "stdout",
     "output_type": "stream",
     "text": [
      "count    42068.000000\n",
      "mean       120.270752\n",
      "std         58.694396\n",
      "min          4.000000\n",
      "25%         77.000000\n",
      "50%        115.000000\n",
      "75%        156.000000\n",
      "max        520.000000\n",
      "Name: len, dtype: float64\n"
     ]
    },
    {
     "data": {
      "text/plain": [
       "<AxesSubplot: ylabel='Frequency'>"
      ]
     },
     "execution_count": 207,
     "metadata": {},
     "output_type": "execute_result"
    },
    {
     "data": {
      "image/png": "[encoded data removed]",
      "text/plain": [
       "<Figure size 640x480 with 1 Axes>"
      ]
     },
     "metadata": {},
     "output_type": "display_data"
    }
   ],
   "source": [
    "df_train['len'] = df_train[0].apply(lambda x:len(x))\n",
    "print(df_train['len'].describe())\n",
    "df_train['len'].plot(kind = 'hist')"
   ]
  },
  {
   "cell_type": "code",
   "execution_count": 180,
   "id": "5253085a-8c4c-4d3f-abed-d7f37d3b22f6",
   "metadata": {},
   "outputs": [],
   "source": [
    "dataset = []\n",
    "for i in range(len(df_train[:100])):\n",
    "    sentence = df_train.iloc[i][0].strip().split()\n",
    "    dataset = dataset + convert_sentence_to_vector(sentence)"
   ]
  },
  {
   "cell_type": "code",
   "execution_count": 185,
   "id": "0d043a21-b94c-4028-808d-2f251b15e4a2",
   "metadata": {},
   "outputs": [],
   "source": [
    "dataset = tf.data.Dataset.from_tensor_slices(dataset)"
   ]
  },
  {
   "cell_type": "code",
   "execution_count": 254,
   "id": "50ec18f7-6a12-4b13-8235-5677b9ec2ec5",
   "metadata": {},
   "outputs": [
    {
     "name": "stdout",
     "output_type": "stream",
     "text": [
      "aer banknote berlitz calloway centrust cluett fromstein gitano guterman hydro-quebec ipo kia memotec mlx nahb punts rake regatta rubens sim snack-food ssangyong swapo wachter pierre N years old will join the board as a nonexecutive director nov. N mr. is chairman of n.v. the dutch publishing group rudolph N years old and former chairman of consolidated gold fields plc was named a nonexecutive director of this british industrial conglomerate a form of asbestos once used to make kent cigarette filters has caused a high percentage of cancer deaths among a group of workers exposed to it more than N years ago researchers reported the asbestos fiber is unusually once it enters the with even brief exposures to it causing symptoms that show up decades later researchers said inc. the unit of new york-based corp. that makes kent cigarettes stopped using in its cigarette filters in N although preliminary findings were reported more than a year ago the latest results appear in today 's new england journal of medicine a forum likely to bring new attention to the problem a said this is an old story we 're talking about years ago before anyone heard of asbestos having any questionable properties there is no asbestos in our products now neither nor the researchers who studied the workers were aware of any research on smokers of the kent cigarettes we have no useful information on whether users are at risk said james a. of boston 's cancer institute dr. led a team of researchers from the national cancer institute and the medical schools of harvard university and boston university the spokeswoman said asbestos was used in very modest amounts in making paper for the filters in the early 1950s and replaced with a different type of in N from N to N N billion kent cigarettes with the filters were sold the company said among N men who worked closely with the substance \n"
     ]
    },
    {
     "name": "stderr",
     "output_type": "stream",
     "text": [
      "2024-04-12 14:55:19.562901: W tensorflow/core/framework/local_rendezvous.cc:404] Local rendezvous is aborting with status: OUT_OF_RANGE: End of sequence\n"
     ]
    }
   ],
   "source": [
    "seq_length = 320\n",
    "sequences = dataset.batch(seq_length+1, drop_remainder=True)\n",
    "for seq in sequences.take(1):\n",
    "    print(convert_vector_to_sentence(seq.numpy()))"
   ]
  },
  {
   "cell_type": "code",
   "execution_count": 255,
   "id": "2d019877-48a5-4d73-b2c0-d8aaccb0c9c6",
   "metadata": {},
   "outputs": [
    {
     "data": {
      "text/plain": [
       "<_PrefetchDataset element_spec=TensorSpec(shape=(64,), dtype=tf.int32, name=None)>"
      ]
     },
     "execution_count": 255,
     "metadata": {},
     "output_type": "execute_result"
    }
   ],
   "source": [
    "# Batch size\n",
    "BATCH_SIZE = 64\n",
    "\n",
    "# Buffer size to shuffle the dataset\n",
    "# (TF data is designed to work with possibly infinite sequences,\n",
    "# so it doesn't attempt to shuffle the entire sequence in memory. Instead,\n",
    "# it maintains a buffer in which it shuffles elements).\n",
    "BUFFER_SIZE = 10000\n",
    "\n",
    "dataset = (\n",
    "    dataset\n",
    "    .shuffle(BUFFER_SIZE)\n",
    "    .batch(BATCH_SIZE, drop_remainder=True)\n",
    "    .prefetch(tf.data.experimental.AUTOTUNE))\n",
    "\n",
    "dataset"
   ]
  },
  {
   "cell_type": "code",
   "execution_count": 257,
   "id": "4d26c132-e539-4a25-8ccd-cd37ce1879ed",
   "metadata": {},
   "outputs": [],
   "source": [
    "# Length of the vocabulary in StringLookup Layer\n",
    "vocab_size = len(df_vocabulary)\n",
    "\n",
    "# The embedding dimension\n",
    "embedding_dim = 256\n",
    "\n",
    "# Number of RNN units\n",
    "rnn_units = 1024\n"
   ]
  }
 ],
 "metadata": {
  "kernelspec": {
   "display_name": "Python 3 (ipykernel)",
   "language": "python",
   "name": "python3"
  },
  "language_info": {
   "codemirror_mode": {
    "name": "ipython",
    "version": 3
   },
   "file_extension": ".py",
   "mimetype": "text/x-python",
   "name": "python",
   "nbconvert_exporter": "python",
   "pygments_lexer": "ipython3",
   "version": "3.11.6"
  }
 },
 "nbformat": 4,
 "nbformat_minor": 5
}
