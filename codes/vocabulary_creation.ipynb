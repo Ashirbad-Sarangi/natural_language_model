{
 "cells": [
  {
   "cell_type": "code",
   "execution_count": 1,
   "id": "00279552-8122-4100-aaa9-acce4fd8673b",
   "metadata": {},
   "outputs": [],
   "source": [
    "import pandas as analytics\n",
    "import numpy as maths\n",
    "from locations import train_location, vocabulary_location\n",
    "from nltk.tokenize.treebank import TreebankWordTokenizer, TreebankWordDetokenizer"
   ]
  },
  {
   "cell_type": "code",
   "execution_count": 2,
   "id": "342ce8b5-6aa8-4499-937e-fb7385918e78",
   "metadata": {},
   "outputs": [],
   "source": [
    "df_train = analytics.read_csv(train_location, header = None)"
   ]
  },
  {
   "cell_type": "code",
   "execution_count": 3,
   "id": "325e71eb-cf6c-4df7-a08c-f92c2d99ff19",
   "metadata": {},
   "outputs": [],
   "source": [
    "tokeniser = TreebankWordTokenizer()\n",
    "detokeniser = TreebankWordDetokenizer()"
   ]
  },
  {
   "cell_type": "code",
   "execution_count": 4,
   "id": "2126854f-1797-48e9-ba40-59df1f98bdc6",
   "metadata": {},
   "outputs": [],
   "source": [
    "vocabulary = []\n",
    "for i in range(len(df_train)):\n",
    "    vocabulary = vocabulary + tokeniser.tokenize(df_train.iloc[i][0].strip())"
   ]
  },
  {
   "cell_type": "code",
   "execution_count": 5,
   "id": "1020f758-564f-43d4-bef6-e790185639d2",
   "metadata": {},
   "outputs": [
    {
     "name": "stdout",
     "output_type": "stream",
     "text": [
      "Vocabulary Extracted and Saved !!\n"
     ]
    }
   ],
   "source": [
    "analytics.DataFrame(data = {\"token\":list(set(vocabulary))}).to_csv(vocabulary_location)\n",
    "print(\"Vocabulary Extracted and Saved !!\")"
   ]
  }
 ],
 "metadata": {
  "kernelspec": {
   "display_name": "Python 3 (ipykernel)",
   "language": "python",
   "name": "python3"
  },
  "language_info": {
   "codemirror_mode": {
    "name": "ipython",
    "version": 3
   },
   "file_extension": ".py",
   "mimetype": "text/x-python",
   "name": "python",
   "nbconvert_exporter": "python",
   "pygments_lexer": "ipython3",
   "version": "3.11.6"
  }
 },
 "nbformat": 4,
 "nbformat_minor": 5
}
